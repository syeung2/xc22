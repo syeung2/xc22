{
 "cells": [
  {
   "cell_type": "markdown",
   "metadata": {},
   "source": [
    "# Javascript Web Page using an API\n",
    "> A discussion on the frontend usage of an API. This is about creating a page that is well organized and updates based on the backend code created for the api.\n",
    "- toc: true\n",
    "- comments: false\n",
    "- permalink: /techtalk/webfrontend\n",
    "- image:\n",
    "- categories: [3.B, 5.A, 5.B, C5.0, C7.0, C7.6]\n",
    "- week: 9"
   ]
  },
  {
   "cell_type": "markdown",
   "metadata": {},
   "source": [
    "The code below holds the info that is being generated in an HTML table.\n",
    "\n",
    "Key things to know:"
   ]
  },
  {
   "cell_type": "markdown",
   "metadata": {},
   "source": [
    "Constant variables are declared here with keyword const\n",
    "\n",
    "Key things to know:\n",
    "- The document object represents your web page.\n",
    "- If you want to access any element in an HTML page, you always start with accessing the document object.\n",
    "- Storing the api is done using the variable url"
   ]
  },
  {
   "cell_type": "markdown",
   "metadata": {},
   "source": [
    "The below code uses a function called fetch to gather the data and place them in a table using a for loop. The creation of the buttons is also done at the same time.\n",
    "\n",
    "Key things to understand:\n",
    "- The url is checked in case the site is down and returns an error\n",
    "- Updates are occuring with onclick"
   ]
  },
  {
   "cell_type": "markdown",
   "metadata": {},
   "source": [
    "This function reaction stores the responses and globally updates the web page."
   ]
  },
  {
   "cell_type": "markdown",
   "metadata": {},
   "source": [
    "# Hacks\n",
    "> The code below relates to the rapidapi you worked with last week. \n",
    "- What are some similarities you see with the javascript for the jokes api? \n",
    "- In a blogpost, break up the code like done above and try to describe what this code is doing. "
   ]
  }
 ],
 "metadata": {
  "kernelspec": {
   "display_name": "Python 3.9.12 ('base')",
   "language": "python",
   "name": "python3"
  },
  "language_info": {
   "codemirror_mode": {
    "name": "ipython",
    "version": 3
   },
   "file_extension": ".py",
   "mimetype": "text/x-python",
   "name": "python",
   "nbconvert_exporter": "python",
   "pygments_lexer": "ipython3",
   "version": "3.9.12"
  },
  "orig_nbformat": 4,
  "vscode": {
   "interpreter": {
    "hash": "65f6bdf080211a4261ca30203f2967d5d410cd9d47d7b7e5694003092334a949"
   }
  }
 },
 "nbformat": 4,
 "nbformat_minor": 2
}
