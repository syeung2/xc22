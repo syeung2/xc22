{
 "cells": [
  {
   "cell_type": "code",
   "execution_count": null,
   "metadata": {},
   "outputs": [],
   "source": [
    "def time_in_seconds(time):\n",
    "    splits = time.split(\":\")\n",
    "    seconds = float(splits[0]) * 60 + float(splits[1]) \n",
    "    return seconds\n",
    "\n",
    "def file_to_seconds(file):\n",
    "    times = []\n",
    "    f = open(file)\n",
    "    for x in f.readlines():\n",
    "        times.append(time_in_seconds(x))\n",
    "    f.close()\n",
    "    return times\n",
    "\n",
    "def print_lines(times):\n",
    "    for i in times:\n",
    "        print(i)\n",
    "\n",
    "print_lines(file_to_seconds(\"text_files/test.txt\"))"
   ]
  },
  {
   "cell_type": "code",
   "execution_count": null,
   "metadata": {},
   "outputs": [],
   "source": [
    "def time_in_minutes(time):\n",
    "    time = float(time) / 60\n",
    "    timeCo = str(time)\n",
    "    timeCo = timeCo.split(\".\")\n",
    "    minutes = timeCo[0]\n",
    "    seconds = \"0.\" + str(timeCo[1]) \n",
    "    seconds = float(seconds) * 60\n",
    "    seconds = round(seconds,2)\n",
    "    if seconds > 10:\n",
    "        times = str(minutes) + \":\" + str(seconds)\n",
    "    else:\n",
    "        times = str(minutes) + \":0\" + str(seconds)\n",
    "    return times\n",
    "\n",
    "def file_to_minutes(file):\n",
    "    times = []\n",
    "    f = open(file)\n",
    "    for x in f.readlines():\n",
    "        times.append(time_in_minutes(x))\n",
    "    f.close()\n",
    "    return times\n",
    "\n",
    "def print_lines(times):\n",
    "    for i in times:\n",
    "        print(i)\n",
    "\n",
    "print_lines(file_to_minutes(\"text_files/test.txt\"))\n"
   ]
  }
 ],
 "metadata": {
  "kernelspec": {
   "display_name": "Python 3.9.12 ('base')",
   "language": "python",
   "name": "python3"
  },
  "language_info": {
   "codemirror_mode": {
    "name": "ipython",
    "version": 3
   },
   "file_extension": ".py",
   "mimetype": "text/x-python",
   "name": "python",
   "nbconvert_exporter": "python",
   "pygments_lexer": "ipython3",
   "version": "3.9.12"
  },
  "orig_nbformat": 4,
  "vscode": {
   "interpreter": {
    "hash": "492680d7f32260e014d1f79865362606ff5bb770ec7c91b8748660834fe94c7e"
   }
  }
 },
 "nbformat": 4,
 "nbformat_minor": 2
}
