{
 "cells": [
  {
   "cell_type": "code",
   "execution_count": 2,
   "metadata": {},
   "outputs": [
    {
     "name": "stdout",
     "output_type": "stream",
     "text": [
      "1006.45\n",
      "1031.95\n",
      "1034.24\n",
      "1042.07\n",
      "1048.42\n",
      "1060.49\n",
      "1084.89\n",
      "980.55\n",
      "1004.42\n",
      "1012.83\n",
      "1023.99\n",
      "1039.89\n",
      "1057.24\n",
      "1099.89\n",
      "966.88\n",
      "975.92\n",
      "1028.85\n",
      "1036.82\n",
      "1064.07\n",
      "1120.77\n",
      "1196.32\n"
     ]
    }
   ],
   "source": [
    "def time_in_seconds(time):\n",
    "    splits = time.split(\":\")\n",
    "    seconds = float(splits[0]) * 60 + float(splits[1]) \n",
    "    return seconds\n",
    "\n",
    "def file_to_seconds(file):\n",
    "    times = []\n",
    "    f = open(file)\n",
    "    for x in f.readlines():\n",
    "        times.append(time_in_seconds(x))\n",
    "    f.close()\n",
    "    return times\n",
    "\n",
    "def print_lines(times):\n",
    "    for i in times:\n",
    "        print(i)\n",
    "\n",
    "print_lines(file_to_seconds(\"text_files/test.txt\"))"
   ]
  },
  {
   "cell_type": "code",
   "execution_count": 5,
   "metadata": {},
   "outputs": [
    {
     "name": "stdout",
     "output_type": "stream",
     "text": [
      "15:46.06\n",
      "16:10.03\n",
      "16:12.19\n",
      "16:19.55\n",
      "16:25.51\n",
      "16:36.86\n",
      "16:59.8\n",
      "15:21.72\n",
      "15:44.15\n",
      "15:52.06\n",
      "16:02.55\n",
      "16:17.5\n",
      "16:33.81\n",
      "17:13.9\n",
      "15:08.87\n",
      "15:17.36\n",
      "16:07.12\n",
      "16:14.61\n",
      "16:40.23\n",
      "17:33.52\n",
      "18:44.54\n"
     ]
    }
   ],
   "source": [
    "def time_in_minutes(time):\n",
    "    time = float(time) / 60\n",
    "    timeCo = str(time)\n",
    "    timeCo = timeCo.split(\".\")\n",
    "    minutes = timeCo[0]\n",
    "    seconds = \"0.\" + str(timeCo[1]) \n",
    "    seconds = float(seconds) * 60\n",
    "    seconds = round(seconds,2)\n",
    "    if seconds > 10:\n",
    "        times = str(minutes) + \":\" + str(seconds)\n",
    "    else:\n",
    "        times = str(minutes) + \":0\" + str(seconds)\n",
    "    return times\n",
    "\n",
    "def file_to_minutes(file):\n",
    "    times = []\n",
    "    f = open(file)\n",
    "    for x in f.readlines():\n",
    "        times.append(time_in_minutes(x))\n",
    "    f.close()\n",
    "    return times\n",
    "\n",
    "def print_lines(times):\n",
    "    for i in times:\n",
    "        print(i)\n",
    "\n",
    "print_lines(file_to_minutes(\"text_files/test.txt\"))\n"
   ]
  }
 ],
 "metadata": {
  "kernelspec": {
   "display_name": "Python 3.9.12 ('base')",
   "language": "python",
   "name": "python3"
  },
  "language_info": {
   "codemirror_mode": {
    "name": "ipython",
    "version": 3
   },
   "file_extension": ".py",
   "mimetype": "text/x-python",
   "name": "python",
   "nbconvert_exporter": "python",
   "pygments_lexer": "ipython3",
   "version": "3.9.12"
  },
  "orig_nbformat": 4,
  "vscode": {
   "interpreter": {
    "hash": "65f6bdf080211a4261ca30203f2967d5d410cd9d47d7b7e5694003092334a949"
   }
  }
 },
 "nbformat": 4,
 "nbformat_minor": 2
}
