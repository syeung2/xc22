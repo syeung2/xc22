{
 "cells": [
  {
   "cell_type": "code",
   "execution_count": 27,
   "metadata": {},
   "outputs": [
    {
     "name": "stdout",
     "output_type": "stream",
     "text": [
      "[1, 7, 8, 9, 10]\n",
      "[2, 3, 4, 5, 6]\n",
      "[('a', 35), ('b', 20)]\n"
     ]
    }
   ],
   "source": [
    "def get_meet_scores():\n",
    "    teamList = {}\n",
    "    team = \"\"\n",
    "    count = 1\n",
    "    scores = []\n",
    "    exists = 0\n",
    "    final = []\n",
    "\n",
    "    while team != \"done\":\n",
    "        team = input()\n",
    "        if team != \"done\":\n",
    "            if len(teamList.keys()) == 0:\n",
    "                scores.append(count)\n",
    "                count += 1\n",
    "                teamList.update({team:scores}) \n",
    "            else:\n",
    "                for key in teamList.keys(): \n",
    "                    if team == key:\n",
    "                        exists = 1\n",
    "                        scores = teamList[team]\n",
    "                        if len(scores) < 7:\n",
    "                            scores.append(count)\n",
    "                            count += 1\n",
    "                if exists == 0:\n",
    "                    scores = []\n",
    "                    scores.append(count)\n",
    "                    count += 1 \n",
    "                exists = 0           \n",
    "                teamList.update({team:scores}) \n",
    "\n",
    "    for k,v in teamList.items():\n",
    "        print(v)\n",
    "        if len(v) > 4:\n",
    "            score = v[0] + v[1] + v[2] + v[3] + v[4]\n",
    "            final.append((k, score))\n",
    "    \n",
    "    print(final)\n",
    "\n",
    "get_meet_scores()"
   ]
  }
 ],
 "metadata": {
  "kernelspec": {
   "display_name": "Python 3.9.12 ('base')",
   "language": "python",
   "name": "python3"
  },
  "language_info": {
   "codemirror_mode": {
    "name": "ipython",
    "version": 3
   },
   "file_extension": ".py",
   "mimetype": "text/x-python",
   "name": "python",
   "nbconvert_exporter": "python",
   "pygments_lexer": "ipython3",
   "version": "3.9.12"
  },
  "orig_nbformat": 4,
  "vscode": {
   "interpreter": {
    "hash": "492680d7f32260e014d1f79865362606ff5bb770ec7c91b8748660834fe94c7e"
   }
  }
 },
 "nbformat": 4,
 "nbformat_minor": 2
}
