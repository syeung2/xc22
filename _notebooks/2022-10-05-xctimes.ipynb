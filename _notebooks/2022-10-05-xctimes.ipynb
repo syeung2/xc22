{
 "cells": [
  {
   "cell_type": "code",
   "execution_count": 13,
   "metadata": {},
   "outputs": [],
   "source": [
    "def format_results(resultsin, resultsout):\n",
    "    newList = []\n",
    "    final = []\n",
    "    counter = 0\n",
    "    f = open(resultsin)\n",
    "    for x in f.readlines():\n",
    "        if counter == 0:\n",
    "            newString = x.rstrip()\n",
    "            counter = 1\n",
    "        else:\n",
    "            newString = newString + \"\\t\" + x.rstrip()\n",
    "            counter = 0\n",
    "            newList.append(newString)\n",
    "    \n",
    "    for i in newList:\n",
    "        i = i.replace(\".\",\":\")\n",
    "        id = i.rsplit(\"\\t\")\n",
    "        id.pop(0)\n",
    "        id.pop(0) #comment out for single place\n",
    "        id.pop(2)\n",
    "        final.append(id)\n",
    "    f.close()\n",
    "\n",
    "    with open(resultsout, \"w\") as f:\n",
    "        for line in final:\n",
    "            f.write(line[1] + \"\\t\" + line[0] + \"\\t\" + line[3] + \"\\t\" + line[2] + \"0\" + \"\\n\")\n",
    "    f.close()\n",
    "\n",
    "format_results(\"text_files/test.txt\", \"text_files/2022_10_08.txt\")"
   ]
  }
 ],
 "metadata": {
  "kernelspec": {
   "display_name": "Python 3.8.10 64-bit",
   "language": "python",
   "name": "python3"
  },
  "language_info": {
   "codemirror_mode": {
    "name": "ipython",
    "version": 3
   },
   "file_extension": ".py",
   "mimetype": "text/x-python",
   "name": "python",
   "nbconvert_exporter": "python",
   "pygments_lexer": "ipython3",
   "version": "3.8.10"
  },
  "orig_nbformat": 4,
  "vscode": {
   "interpreter": {
    "hash": "916dbcbb3f70747c44a77c7bcd40155683ae19c65e1c03b4aa3499c5328201f1"
   }
  }
 },
 "nbformat": 4,
 "nbformat_minor": 2
}
